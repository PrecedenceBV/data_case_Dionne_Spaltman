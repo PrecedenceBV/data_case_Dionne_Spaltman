{
 "cells": [
  {
   "cell_type": "code",
   "execution_count": 7,
   "id": "f1f9bf23-d933-4caa-bf12-ec17224195c2",
   "metadata": {},
   "outputs": [],
   "source": [
    "import pandas as pd"
   ]
  },
  {
   "cell_type": "code",
   "execution_count": 8,
   "id": "8a373cff-f309-4d72-bfb0-b4e46f99a063",
   "metadata": {},
   "outputs": [
    {
     "data": {
      "text/html": [
       "<div>\n",
       "<style scoped>\n",
       "    .dataframe tbody tr th:only-of-type {\n",
       "        vertical-align: middle;\n",
       "    }\n",
       "\n",
       "    .dataframe tbody tr th {\n",
       "        vertical-align: top;\n",
       "    }\n",
       "\n",
       "    .dataframe thead th {\n",
       "        text-align: right;\n",
       "    }\n",
       "</style>\n",
       "<table border=\"1\" class=\"dataframe\">\n",
       "  <thead>\n",
       "    <tr style=\"text-align: right;\">\n",
       "      <th></th>\n",
       "      <th>Customer_ID</th>\n",
       "      <th>Name</th>\n",
       "      <th>Age</th>\n",
       "      <th>Street</th>\n",
       "      <th>City</th>\n",
       "      <th>State</th>\n",
       "      <th>Postal_Code</th>\n",
       "      <th>Phone_Number</th>\n",
       "    </tr>\n",
       "  </thead>\n",
       "  <tbody>\n",
       "    <tr>\n",
       "      <th>0</th>\n",
       "      <td>CUST-EWLTWF</td>\n",
       "      <td>Customer_0</td>\n",
       "      <td>56</td>\n",
       "      <td>Ocean Drive 189</td>\n",
       "      <td>Riverside</td>\n",
       "      <td>TX</td>\n",
       "      <td>91962</td>\n",
       "      <td>+1-765-557-7254</td>\n",
       "    </tr>\n",
       "    <tr>\n",
       "      <th>1</th>\n",
       "      <td>CUST-QRWRCV</td>\n",
       "      <td>Customer_1</td>\n",
       "      <td>57</td>\n",
       "      <td>Main Street 108</td>\n",
       "      <td>Riverside</td>\n",
       "      <td>NY</td>\n",
       "      <td>43015</td>\n",
       "      <td>+1-606-593-4886</td>\n",
       "    </tr>\n",
       "    <tr>\n",
       "      <th>2</th>\n",
       "      <td>CUST-UAUBYI</td>\n",
       "      <td>Customer_2</td>\n",
       "      <td>70</td>\n",
       "      <td>Ocean Drive 38</td>\n",
       "      <td>Fairview</td>\n",
       "      <td>FL</td>\n",
       "      <td>67986</td>\n",
       "      <td>+1-846-846-9270</td>\n",
       "    </tr>\n",
       "    <tr>\n",
       "      <th>3</th>\n",
       "      <td>CUST-WINYRB</td>\n",
       "      <td>Customer_3</td>\n",
       "      <td>32</td>\n",
       "      <td>Highland Avenue 159</td>\n",
       "      <td>Riverside</td>\n",
       "      <td>NY</td>\n",
       "      <td>18001</td>\n",
       "      <td>+1-970-990-9652</td>\n",
       "    </tr>\n",
       "    <tr>\n",
       "      <th>4</th>\n",
       "      <td>CUST-TFEJMN</td>\n",
       "      <td>Customer_4</td>\n",
       "      <td>76</td>\n",
       "      <td>Highland Avenue 40</td>\n",
       "      <td>Fairview</td>\n",
       "      <td>TX</td>\n",
       "      <td>17037</td>\n",
       "      <td>+1-674-166-5609</td>\n",
       "    </tr>\n",
       "    <tr>\n",
       "      <th>...</th>\n",
       "      <td>...</td>\n",
       "      <td>...</td>\n",
       "      <td>...</td>\n",
       "      <td>...</td>\n",
       "      <td>...</td>\n",
       "      <td>...</td>\n",
       "      <td>...</td>\n",
       "      <td>...</td>\n",
       "    </tr>\n",
       "    <tr>\n",
       "      <th>995</th>\n",
       "      <td>CUST-VDSRHI</td>\n",
       "      <td>Customer_995</td>\n",
       "      <td>28</td>\n",
       "      <td>Main Street 46</td>\n",
       "      <td>Springfield</td>\n",
       "      <td>FL</td>\n",
       "      <td>98042</td>\n",
       "      <td>+1-624-417-9978</td>\n",
       "    </tr>\n",
       "    <tr>\n",
       "      <th>996</th>\n",
       "      <td>CUST-UASKJU</td>\n",
       "      <td>Customer_996</td>\n",
       "      <td>53</td>\n",
       "      <td>Sunset Boulevard 149</td>\n",
       "      <td>Riverside</td>\n",
       "      <td>IL</td>\n",
       "      <td>56064</td>\n",
       "      <td>+1-385-719-9195</td>\n",
       "    </tr>\n",
       "    <tr>\n",
       "      <th>997</th>\n",
       "      <td>CUST-KT0YZQ</td>\n",
       "      <td>Customer_997</td>\n",
       "      <td>43</td>\n",
       "      <td>Baker Street 74</td>\n",
       "      <td>Greenville</td>\n",
       "      <td>CA</td>\n",
       "      <td>64388</td>\n",
       "      <td>+1-413-949-1203</td>\n",
       "    </tr>\n",
       "    <tr>\n",
       "      <th>998</th>\n",
       "      <td>CUST-DXWBTH</td>\n",
       "      <td>Customer_998</td>\n",
       "      <td>65</td>\n",
       "      <td>Ocean Drive 55</td>\n",
       "      <td>Fairview</td>\n",
       "      <td>NY</td>\n",
       "      <td>76313</td>\n",
       "      <td>+1-291-701-7988</td>\n",
       "    </tr>\n",
       "    <tr>\n",
       "      <th>999</th>\n",
       "      <td>CUST-DVIFHD</td>\n",
       "      <td>NaN</td>\n",
       "      <td>29</td>\n",
       "      <td>Main Street 143</td>\n",
       "      <td>Greenville</td>\n",
       "      <td>TX</td>\n",
       "      <td>67540</td>\n",
       "      <td>+1-829-126-5621</td>\n",
       "    </tr>\n",
       "  </tbody>\n",
       "</table>\n",
       "<p>1000 rows × 8 columns</p>\n",
       "</div>"
      ],
      "text/plain": [
       "     Customer_ID          Name  Age                Street         City State  \\\n",
       "0    CUST-EWLTWF    Customer_0   56       Ocean Drive 189    Riverside    TX   \n",
       "1    CUST-QRWRCV    Customer_1   57       Main Street 108    Riverside    NY   \n",
       "2    CUST-UAUBYI    Customer_2   70        Ocean Drive 38     Fairview    FL   \n",
       "3    CUST-WINYRB    Customer_3   32   Highland Avenue 159    Riverside    NY   \n",
       "4    CUST-TFEJMN    Customer_4   76    Highland Avenue 40     Fairview    TX   \n",
       "..           ...           ...  ...                   ...          ...   ...   \n",
       "995  CUST-VDSRHI  Customer_995   28        Main Street 46  Springfield    FL   \n",
       "996  CUST-UASKJU  Customer_996   53  Sunset Boulevard 149    Riverside    IL   \n",
       "997  CUST-KT0YZQ  Customer_997   43       Baker Street 74   Greenville    CA   \n",
       "998  CUST-DXWBTH  Customer_998   65        Ocean Drive 55     Fairview    NY   \n",
       "999  CUST-DVIFHD           NaN   29       Main Street 143   Greenville    TX   \n",
       "\n",
       "     Postal_Code     Phone_Number  \n",
       "0          91962  +1-765-557-7254  \n",
       "1          43015  +1-606-593-4886  \n",
       "2          67986  +1-846-846-9270  \n",
       "3          18001  +1-970-990-9652  \n",
       "4          17037  +1-674-166-5609  \n",
       "..           ...              ...  \n",
       "995        98042  +1-624-417-9978  \n",
       "996        56064  +1-385-719-9195  \n",
       "997        64388  +1-413-949-1203  \n",
       "998        76313  +1-291-701-7988  \n",
       "999        67540  +1-829-126-5621  \n",
       "\n",
       "[1000 rows x 8 columns]"
      ]
     },
     "metadata": {},
     "output_type": "display_data"
    }
   ],
   "source": [
    "# Define the file path\n",
    "file_path = 'data-case/customer_data_comma.csv'\n",
    "\n",
    "# Load the CSV file into a DataFrame\n",
    "df = pd.read_csv(file_path)\n",
    "\n",
    "display(df)\n"
   ]
  },
  {
   "cell_type": "code",
   "execution_count": 10,
   "id": "9f592ca7-81ba-4968-8929-8709b01237c9",
   "metadata": {},
   "outputs": [
    {
     "data": {
      "text/plain": [
       "(1000, 8)"
      ]
     },
     "execution_count": 10,
     "metadata": {},
     "output_type": "execute_result"
    }
   ],
   "source": [
    "df.shape\n",
    "\n",
    "# We have 1000 customers and we have 8 columns "
   ]
  },
  {
   "cell_type": "code",
   "execution_count": 11,
   "id": "b77aa291-f496-46ae-92f6-8199bdede7d4",
   "metadata": {},
   "outputs": [
    {
     "name": "stdout",
     "output_type": "stream",
     "text": [
      "<class 'pandas.core.frame.DataFrame'>\n",
      "RangeIndex: 1000 entries, 0 to 999\n",
      "Data columns (total 8 columns):\n",
      " #   Column        Non-Null Count  Dtype \n",
      "---  ------        --------------  ----- \n",
      " 0   Customer_ID   1000 non-null   object\n",
      " 1   Name          984 non-null    object\n",
      " 2   Age           1000 non-null   int64 \n",
      " 3   Street        1000 non-null   object\n",
      " 4   City          1000 non-null   object\n",
      " 5   State         1000 non-null   object\n",
      " 6   Postal_Code   1000 non-null   int64 \n",
      " 7   Phone_Number  1000 non-null   object\n",
      "dtypes: int64(2), object(6)\n",
      "memory usage: 62.6+ KB\n",
      "None\n"
     ]
    }
   ],
   "source": [
    "print(df.info())\n"
   ]
  },
  {
   "cell_type": "code",
   "execution_count": 12,
   "id": "fdb11da8-8757-46bb-80d2-1488f533a739",
   "metadata": {},
   "outputs": [
    {
     "name": "stdout",
     "output_type": "stream",
     "text": [
      "Customer_ID      0\n",
      "Name            16\n",
      "Age              0\n",
      "Street           0\n",
      "City             0\n",
      "State            0\n",
      "Postal_Code      0\n",
      "Phone_Number     0\n",
      "dtype: int64\n",
      "Customer_ID     0.0\n",
      "Name            1.6\n",
      "Age             0.0\n",
      "Street          0.0\n",
      "City            0.0\n",
      "State           0.0\n",
      "Postal_Code     0.0\n",
      "Phone_Number    0.0\n",
      "dtype: float64\n"
     ]
    }
   ],
   "source": [
    "print(df.isnull().sum())\n",
    "print(df.isnull().mean() * 100)"
   ]
  },
  {
   "cell_type": "code",
   "execution_count": null,
   "id": "e7aa87a4-3744-4b76-b2e8-d532b165e3ed",
   "metadata": {},
   "outputs": [],
   "source": [
    "# there's barely any missing values, only missing values for name "
   ]
  },
  {
   "cell_type": "code",
   "execution_count": 13,
   "id": "198b0ca6-1efa-49d0-98f3-72fcb8e04589",
   "metadata": {},
   "outputs": [
    {
     "name": "stdout",
     "output_type": "stream",
     "text": [
      "0\n"
     ]
    }
   ],
   "source": [
    "print(df.duplicated().sum())\n"
   ]
  },
  {
   "cell_type": "code",
   "execution_count": 14,
   "id": "9591e423-9a4e-4eee-b3c2-c02061acda62",
   "metadata": {},
   "outputs": [
    {
     "name": "stdout",
     "output_type": "stream",
     "text": [
      "Customer_ID     object\n",
      "Name            object\n",
      "Age              int64\n",
      "Street          object\n",
      "City            object\n",
      "State           object\n",
      "Postal_Code      int64\n",
      "Phone_Number    object\n",
      "dtype: object\n"
     ]
    }
   ],
   "source": [
    "print(df.dtypes)\n"
   ]
  },
  {
   "cell_type": "code",
   "execution_count": 15,
   "id": "75cee2bc-da48-465a-a2dd-2d211f7c2c9b",
   "metadata": {},
   "outputs": [
    {
     "name": "stdout",
     "output_type": "stream",
     "text": [
      "               Age   Postal_Code\n",
      "count  1000.000000   1000.000000\n",
      "mean     49.974000  56785.917000\n",
      "std      18.841718  25711.108857\n",
      "min       5.000000  10020.000000\n",
      "25%      35.000000  34886.500000\n",
      "50%      50.000000  57043.500000\n",
      "75%      65.250000  78452.500000\n",
      "max     120.000000  99867.000000\n"
     ]
    }
   ],
   "source": [
    "print(df.describe())\n"
   ]
  },
  {
   "cell_type": "code",
   "execution_count": null,
   "id": "504326db-9602-4642-ae0b-fded0893377f",
   "metadata": {},
   "outputs": [],
   "source": [
    "# Minimum age is 5, seems to be very low\n",
    "# Maximum age is 120, seems to way to high \n"
   ]
  },
  {
   "cell_type": "code",
   "execution_count": 16,
   "id": "677baa27-cef7-4bef-97f0-cce37d89e1cd",
   "metadata": {},
   "outputs": [
    {
     "name": "stdout",
     "output_type": "stream",
     "text": [
      "Customer_ID: 994 unique values\n",
      "Name: 984 unique values\n",
      "Age: 65 unique values\n",
      "Street: 626 unique values\n",
      "City: 5 unique values\n",
      "State: 5 unique values\n",
      "Postal_Code: 995 unique values\n",
      "Phone_Number: 1000 unique values\n"
     ]
    }
   ],
   "source": [
    "for col in df.columns:\n",
    "    print(f\"{col}: {df[col].nunique()} unique values\")\n"
   ]
  },
  {
   "cell_type": "code",
   "execution_count": null,
   "id": "4d3e0734-8e98-43a5-bdfd-3216f4e8529e",
   "metadata": {},
   "outputs": [],
   "source": [
    "# We have 1000 customers and we have 8 columns \n",
    "\n",
    "# there's barely any missing values, only missing values for name \n",
    "\n",
    "# Minimum age is 5, seems to be very low\n",
    "# Maximum age is 120, seems to way to high \n",
    "\n",
    "# Name's are not actual names, but just numbers\n",
    "\n",
    "# There's only 5 different states and 5 different cities \n",
    "\n",
    "\n",
    "# Wat kan je doen om de datakwaliteit te verbeteren? \n",
    "# Bronnen nakijken, o.a. kijken naar de leeftijd\n",
    "# Namen zijn geen echte namen (of is de opdracht)\n",
    "# namen aanpassen of anders dit als ID benoemen "
   ]
  }
 ],
 "metadata": {
  "kernelspec": {
   "display_name": "Python [conda env:base] *",
   "language": "python",
   "name": "conda-base-py"
  },
  "language_info": {
   "codemirror_mode": {
    "name": "ipython",
    "version": 3
   },
   "file_extension": ".py",
   "mimetype": "text/x-python",
   "name": "python",
   "nbconvert_exporter": "python",
   "pygments_lexer": "ipython3",
   "version": "3.12.7"
  }
 },
 "nbformat": 4,
 "nbformat_minor": 5
}
